{
 "cells": [
  {
   "cell_type": "markdown",
   "id": "0c6a5728",
   "metadata": {},
   "source": [
    "# BASICS OF PYTHON\n",
    "### to learn python there are 4 key things to know\n",
    "* TERMINOLOGIES- Different words & definitions e.g statement,expression, variable, keys , values e.t.c\n",
    "* DATA TYPES- integers, float, boolean, string, list, tuple, sets, dictionary, none\n",
    "* ACTION\n",
    "* BEST PRACTICES- The proper way to write codes for easy assimilation and understanding by other people\n",
    "\n",
    "## THINGS TO DO PRIOR TO NEXT CLASS\n",
    "* DOWNLOAD \"ANACONDA\" either for mac or for windows\n",
    "* click on  jupyter notebook\n",
    "* read this note on Github : https://blog.hubspot.com/website/what-is-github-used-for\n",
    "* Create your Github account"
   ]
  },
  {
   "cell_type": "markdown",
   "id": "47fd3e99",
   "metadata": {},
   "source": [
    "### Terminologies used\n",
    "* variable - they store information that can be used in a program e.g nupat_students= 'my students are good', the word\"nupat_students is a variable \n",
    "* line\n",
    "* cell\n",
    "* expression\n",
    "* statement\n"
   ]
  },
  {
   "cell_type": "markdown",
   "id": "49d707c4",
   "metadata": {},
   "source": [
    "THERE ARE 9 BASIC DATA TYPES\n",
    "1. int\n",
    "2. float\n",
    "3. bool\n",
    "4. str\n",
    "5. list\n",
    "6. set\n",
    "7. tuples\n",
    "8. dict\n",
    "9. none"
   ]
  },
  {
   "cell_type": "markdown",
   "id": "6d782e00",
   "metadata": {},
   "source": [
    "* int- integers.\n",
    " integers are whole numbers like 1,2,3,4,254,287,562,169,100,543200\n",
    "* float- \n",
    " floating point number i.e a number with decimal place like 1.2, 4.8, 9.2, 7.895, 6.44\n",
    "* bool-\n",
    " boolean i.e True or False\n",
    " \n",
    "* python can always tell you the data type so you don't have to cram anything\n",
    " \n",
    "ability to perform basic arithmetic problems (+, -, /, * )\n",
    "\n",
    "#### OPERATORS\n",
    "* (+) addition\n",
    "* (-) subtraction\n",
    "* (/) divide \n",
    "* (*) multiplication\n",
    "* (**) raised to the power of\n",
    "* (//) floor divider - it does not show the remainder, rather it rounds it off the the closest intger\n",
    "* (%) modulo - shows the remainder of a division\n",
    "\n",
    "python strictly follows the concept of BODMAS"
   ]
  },
  {
   "cell_type": "code",
   "execution_count": 7,
   "id": "0ddb5420",
   "metadata": {},
   "outputs": [
    {
     "data": {
      "text/plain": [
       "4"
      ]
     },
     "execution_count": 7,
     "metadata": {},
     "output_type": "execute_result"
    }
   ],
   "source": [
    "2+2"
   ]
  },
  {
   "cell_type": "code",
   "execution_count": 8,
   "id": "8d488a8d",
   "metadata": {},
   "outputs": [
    {
     "data": {
      "text/plain": [
       "408"
      ]
     },
     "execution_count": 8,
     "metadata": {},
     "output_type": "execute_result"
    }
   ],
   "source": [
    "1000-592"
   ]
  },
  {
   "cell_type": "code",
   "execution_count": 9,
   "id": "576a7f51",
   "metadata": {},
   "outputs": [
    {
     "data": {
      "text/plain": [
       "50.0"
      ]
     },
     "execution_count": 9,
     "metadata": {},
     "output_type": "execute_result"
    }
   ],
   "source": [
    "500/10"
   ]
  },
  {
   "cell_type": "code",
   "execution_count": 10,
   "id": "89ce1659",
   "metadata": {},
   "outputs": [
    {
     "data": {
      "text/plain": [
       "25"
      ]
     },
     "execution_count": 10,
     "metadata": {},
     "output_type": "execute_result"
    }
   ],
   "source": [
    "5*5"
   ]
  },
  {
   "cell_type": "code",
   "execution_count": 11,
   "id": "7dec47d4",
   "metadata": {},
   "outputs": [
    {
     "data": {
      "text/plain": [
       "8"
      ]
     },
     "execution_count": 11,
     "metadata": {},
     "output_type": "execute_result"
    }
   ],
   "source": [
    "2**3"
   ]
  },
  {
   "cell_type": "code",
   "execution_count": 12,
   "id": "a376aa0a",
   "metadata": {},
   "outputs": [
    {
     "data": {
      "text/plain": [
       "1727094849536"
      ]
     },
     "execution_count": 12,
     "metadata": {},
     "output_type": "execute_result"
    }
   ],
   "source": [
    "56**7"
   ]
  },
  {
   "cell_type": "code",
   "execution_count": 14,
   "id": "ba306e3a",
   "metadata": {},
   "outputs": [
    {
     "data": {
      "text/plain": [
       "9"
      ]
     },
     "execution_count": 14,
     "metadata": {},
     "output_type": "execute_result"
    }
   ],
   "source": [
    "67//7"
   ]
  },
  {
   "cell_type": "code",
   "execution_count": 16,
   "id": "4a9562c4",
   "metadata": {},
   "outputs": [
    {
     "data": {
      "text/plain": [
       "9.571428571428571"
      ]
     },
     "execution_count": 16,
     "metadata": {},
     "output_type": "execute_result"
    }
   ],
   "source": [
    "67/7"
   ]
  },
  {
   "cell_type": "code",
   "execution_count": 17,
   "id": "dd9474bd",
   "metadata": {},
   "outputs": [
    {
     "data": {
      "text/plain": [
       "130"
      ]
     },
     "execution_count": 17,
     "metadata": {},
     "output_type": "execute_result"
    }
   ],
   "source": [
    "785//6\n"
   ]
  },
  {
   "cell_type": "code",
   "execution_count": 18,
   "id": "3061f964",
   "metadata": {},
   "outputs": [
    {
     "data": {
      "text/plain": [
       "130.83333333333334"
      ]
     },
     "execution_count": 18,
     "metadata": {},
     "output_type": "execute_result"
    }
   ],
   "source": [
    "785/6"
   ]
  },
  {
   "cell_type": "code",
   "execution_count": 20,
   "id": "9ae38638",
   "metadata": {},
   "outputs": [
    {
     "data": {
      "text/plain": [
       "2"
      ]
     },
     "execution_count": 20,
     "metadata": {},
     "output_type": "execute_result"
    }
   ],
   "source": [
    "56%6"
   ]
  },
  {
   "cell_type": "code",
   "execution_count": 21,
   "id": "e9bda86f",
   "metadata": {},
   "outputs": [
    {
     "data": {
      "text/plain": [
       "-16.666666666666664"
      ]
     },
     "execution_count": 21,
     "metadata": {},
     "output_type": "execute_result"
    }
   ],
   "source": [
    "24+4-67/6*4"
   ]
  },
  {
   "cell_type": "code",
   "execution_count": 22,
   "id": "5ba9dbfd",
   "metadata": {},
   "outputs": [
    {
     "data": {
      "text/plain": [
       "-36.4"
      ]
     },
     "execution_count": 22,
     "metadata": {},
     "output_type": "execute_result"
    }
   ],
   "source": [
    "(24+2)-78/5*4"
   ]
  },
  {
   "cell_type": "code",
   "execution_count": 23,
   "id": "fc4cff2b",
   "metadata": {},
   "outputs": [
    {
     "data": {
      "text/plain": [
       "True"
      ]
     },
     "execution_count": 23,
     "metadata": {},
     "output_type": "execute_result"
    }
   ],
   "source": [
    "36 in [36,54,21,56,89]"
   ]
  },
  {
   "cell_type": "code",
   "execution_count": 24,
   "id": "b2f065fc",
   "metadata": {},
   "outputs": [
    {
     "data": {
      "text/plain": [
       "False"
      ]
     },
     "execution_count": 24,
     "metadata": {},
     "output_type": "execute_result"
    }
   ],
   "source": [
    "88 in [99,10,5,7,8]"
   ]
  },
  {
   "cell_type": "code",
   "execution_count": 32,
   "id": "315c0682",
   "metadata": {},
   "outputs": [
    {
     "data": {
      "text/plain": [
       "'my students are good'"
      ]
     },
     "execution_count": 32,
     "metadata": {},
     "output_type": "execute_result"
    }
   ],
   "source": [
    "# this is an example to show what a variable is \n",
    "nupat='my students are good'\n",
    "nupat"
   ]
  },
  {
   "cell_type": "code",
   "execution_count": 30,
   "id": "60fe592c",
   "metadata": {},
   "outputs": [],
   "source": [
    "\n"
   ]
  },
  {
   "cell_type": "code",
   "execution_count": null,
   "id": "fe85fabd",
   "metadata": {},
   "outputs": [],
   "source": []
  }
 ],
 "metadata": {
  "kernelspec": {
   "display_name": "Python 3 (ipykernel)",
   "language": "python",
   "name": "python3"
  },
  "language_info": {
   "codemirror_mode": {
    "name": "ipython",
    "version": 3
   },
   "file_extension": ".py",
   "mimetype": "text/x-python",
   "name": "python",
   "nbconvert_exporter": "python",
   "pygments_lexer": "ipython3",
   "version": "3.9.12"
  }
 },
 "nbformat": 4,
 "nbformat_minor": 5
}
