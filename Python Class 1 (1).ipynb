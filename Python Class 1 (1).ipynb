{
 "cells": [
  {
   "cell_type": "markdown",
   "id": "0c6a5728",
   "metadata": {},
   "source": [
    "# BASICS OF PYTHON\n",
    "### to learn python there are 4 key things to know\n",
    "* TERMINOLOGIES- Different words & definitions e.g statement,expression, variable, keys , values, mutability, immutability e.t.c\n",
    "* DATA TYPES- integers, float, boolean, string, list, tuple, sets, dictionary, none\n",
    "* ACTION\n",
    "* BEST PRACTICES- The proper way to write codes for easy assimilation and understanding by other people\n",
    "\n",
    "## THINGS TO DO PRIOR TO NEXT CLASS\n",
    "* DOWNLOAD \"ANACONDA\" either for mac or for windows\n",
    "* click on  jupyter notebook\n",
    "* read this note on Github : https://blog.hubspot.com/website/what-is-github-used-for\n",
    "* Create your Github account"
   ]
  },
  {
   "cell_type": "markdown",
   "id": "47fd3e99",
   "metadata": {},
   "source": [
    "### Terminologies used\n",
    "* variable - they store information that can be used in a program e.g nupat_students= 'my students are good', the word\"nupat_students is a variable \n",
    "* line\n",
    "* cell\n",
    "* expression\n",
    "* statement\n"
   ]
  },
  {
   "cell_type": "markdown",
   "id": "49d707c4",
   "metadata": {},
   "source": [
    "THERE ARE 9 BASIC DATA TYPES\n",
    "1. int\n",
    "2. float\n",
    "3. bool\n",
    "4. str\n",
    "5. list\n",
    "6. set\n",
    "7. tuples\n",
    "8. dict\n",
    "9. none"
   ]
  },
  {
   "cell_type": "markdown",
   "id": "6d782e00",
   "metadata": {},
   "source": [
    "* int- integers.\n",
    " integers are whole numbers like 1,2,3,4,254,287,562,169,100,543200\n",
    "* float- \n",
    " floating point number i.e a number with decimal place like 1.2, 4.8, 9.2, 7.895, 6.44\n",
    "* bool-\n",
    " boolean i.e True or False\n",
    "* str- string.\n",
    " it is a piece of text \n",
    " \n",
    "* python can always tell you the data type so you don't have to cram anything\n",
    " \n",
    "ability to perform basic arithmetic problems (+, -, /, * )\n",
    "\n",
    "#### OPERATORS\n",
    "* (+) addition\n",
    "* (-) subtraction\n",
    "* (/) divide \n",
    "* (*) multiplication\n",
    "* (**) raised to the power of\n",
    "* (//) floor divider - it does not show the remainder, rather it rounds it off the the closest intger\n",
    "* (%) modulo - shows the remainder of a division\n",
    "\n",
    "python strictly follows the concept of BODMAS"
   ]
  },
  {
   "cell_type": "code",
   "execution_count": 7,
   "id": "0ddb5420",
   "metadata": {},
   "outputs": [
    {
     "data": {
      "text/plain": [
       "4"
      ]
     },
     "execution_count": 7,
     "metadata": {},
     "output_type": "execute_result"
    }
   ],
   "source": [
    "2+2"
   ]
  },
  {
   "cell_type": "code",
   "execution_count": 8,
   "id": "8d488a8d",
   "metadata": {},
   "outputs": [
    {
     "data": {
      "text/plain": [
       "408"
      ]
     },
     "execution_count": 8,
     "metadata": {},
     "output_type": "execute_result"
    }
   ],
   "source": [
    "1000-592"
   ]
  },
  {
   "cell_type": "code",
   "execution_count": 9,
   "id": "576a7f51",
   "metadata": {},
   "outputs": [
    {
     "data": {
      "text/plain": [
       "50.0"
      ]
     },
     "execution_count": 9,
     "metadata": {},
     "output_type": "execute_result"
    }
   ],
   "source": [
    "500/10"
   ]
  },
  {
   "cell_type": "code",
   "execution_count": 10,
   "id": "89ce1659",
   "metadata": {},
   "outputs": [
    {
     "data": {
      "text/plain": [
       "25"
      ]
     },
     "execution_count": 10,
     "metadata": {},
     "output_type": "execute_result"
    }
   ],
   "source": [
    "5*5"
   ]
  },
  {
   "cell_type": "code",
   "execution_count": 11,
   "id": "7dec47d4",
   "metadata": {},
   "outputs": [
    {
     "data": {
      "text/plain": [
       "8"
      ]
     },
     "execution_count": 11,
     "metadata": {},
     "output_type": "execute_result"
    }
   ],
   "source": [
    "2**3"
   ]
  },
  {
   "cell_type": "code",
   "execution_count": 12,
   "id": "a376aa0a",
   "metadata": {},
   "outputs": [
    {
     "data": {
      "text/plain": [
       "1727094849536"
      ]
     },
     "execution_count": 12,
     "metadata": {},
     "output_type": "execute_result"
    }
   ],
   "source": [
    "56**7"
   ]
  },
  {
   "cell_type": "code",
   "execution_count": 14,
   "id": "ba306e3a",
   "metadata": {},
   "outputs": [
    {
     "data": {
      "text/plain": [
       "9"
      ]
     },
     "execution_count": 14,
     "metadata": {},
     "output_type": "execute_result"
    }
   ],
   "source": [
    "67//7"
   ]
  },
  {
   "cell_type": "code",
   "execution_count": 16,
   "id": "4a9562c4",
   "metadata": {},
   "outputs": [
    {
     "data": {
      "text/plain": [
       "9.571428571428571"
      ]
     },
     "execution_count": 16,
     "metadata": {},
     "output_type": "execute_result"
    }
   ],
   "source": [
    "67/7"
   ]
  },
  {
   "cell_type": "code",
   "execution_count": 17,
   "id": "dd9474bd",
   "metadata": {},
   "outputs": [
    {
     "data": {
      "text/plain": [
       "130"
      ]
     },
     "execution_count": 17,
     "metadata": {},
     "output_type": "execute_result"
    }
   ],
   "source": [
    "785//6\n"
   ]
  },
  {
   "cell_type": "code",
   "execution_count": 18,
   "id": "3061f964",
   "metadata": {},
   "outputs": [
    {
     "data": {
      "text/plain": [
       "130.83333333333334"
      ]
     },
     "execution_count": 18,
     "metadata": {},
     "output_type": "execute_result"
    }
   ],
   "source": [
    "785/6"
   ]
  },
  {
   "cell_type": "code",
   "execution_count": 20,
   "id": "9ae38638",
   "metadata": {},
   "outputs": [
    {
     "data": {
      "text/plain": [
       "2"
      ]
     },
     "execution_count": 20,
     "metadata": {},
     "output_type": "execute_result"
    }
   ],
   "source": [
    "56%6"
   ]
  },
  {
   "cell_type": "code",
   "execution_count": 21,
   "id": "e9bda86f",
   "metadata": {},
   "outputs": [
    {
     "data": {
      "text/plain": [
       "-16.666666666666664"
      ]
     },
     "execution_count": 21,
     "metadata": {},
     "output_type": "execute_result"
    }
   ],
   "source": [
    "24+4-67/6*4"
   ]
  },
  {
   "cell_type": "code",
   "execution_count": 22,
   "id": "5ba9dbfd",
   "metadata": {},
   "outputs": [
    {
     "data": {
      "text/plain": [
       "-36.4"
      ]
     },
     "execution_count": 22,
     "metadata": {},
     "output_type": "execute_result"
    }
   ],
   "source": [
    "(24+2)-78/5*4"
   ]
  },
  {
   "cell_type": "code",
   "execution_count": 23,
   "id": "fc4cff2b",
   "metadata": {},
   "outputs": [
    {
     "data": {
      "text/plain": [
       "True"
      ]
     },
     "execution_count": 23,
     "metadata": {},
     "output_type": "execute_result"
    }
   ],
   "source": [
    "36 in [36,54,21,56,89]"
   ]
  },
  {
   "cell_type": "code",
   "execution_count": 24,
   "id": "b2f065fc",
   "metadata": {},
   "outputs": [
    {
     "data": {
      "text/plain": [
       "False"
      ]
     },
     "execution_count": 24,
     "metadata": {},
     "output_type": "execute_result"
    }
   ],
   "source": [
    "88 in [99,10,5,7,8]"
   ]
  },
  {
   "cell_type": "code",
   "execution_count": 3,
   "id": "fe85fabd",
   "metadata": {},
   "outputs": [
    {
     "data": {
      "text/plain": [
       "int"
      ]
     },
     "execution_count": 3,
     "metadata": {},
     "output_type": "execute_result"
    }
   ],
   "source": [
    "type(2)"
   ]
  },
  {
   "cell_type": "code",
   "execution_count": 4,
   "id": "ae468dba",
   "metadata": {},
   "outputs": [
    {
     "data": {
      "text/plain": [
       "int"
      ]
     },
     "execution_count": 4,
     "metadata": {},
     "output_type": "execute_result"
    }
   ],
   "source": [
    "type(9)"
   ]
  },
  {
   "cell_type": "code",
   "execution_count": 5,
   "id": "f31439e6",
   "metadata": {},
   "outputs": [
    {
     "data": {
      "text/plain": [
       "bool"
      ]
     },
     "execution_count": 5,
     "metadata": {},
     "output_type": "execute_result"
    }
   ],
   "source": [
    "type(False)"
   ]
  },
  {
   "cell_type": "code",
   "execution_count": 7,
   "id": "e36024e2",
   "metadata": {},
   "outputs": [
    {
     "data": {
      "text/plain": [
       "float"
      ]
     },
     "execution_count": 7,
     "metadata": {},
     "output_type": "execute_result"
    }
   ],
   "source": [
    "type(1.675323567)"
   ]
  },
  {
   "cell_type": "markdown",
   "id": "54d7ad4c",
   "metadata": {},
   "source": [
    "### STRING (str)\n",
    " * it can be written using quotation mark i.e both '' and \"\" \n",
    " * let's assume we are creating a login form and you want to collect username and password\" \n",
    " * if you make any modification on a cell you have to run the cel again\n",
    " * long string- ''' is used for long statements as shown below"
   ]
  },
  {
   "cell_type": "code",
   "execution_count": 13,
   "id": "9d44b9e4",
   "metadata": {},
   "outputs": [
    {
     "data": {
      "text/plain": [
       "'a student of data science and analytics'"
      ]
     },
     "execution_count": 13,
     "metadata": {},
     "output_type": "execute_result"
    }
   ],
   "source": [
    "sandra = 'a student of data science and analytics'\n",
    "sandra"
   ]
  },
  {
   "cell_type": "code",
   "execution_count": 14,
   "id": "4dbaa6a9",
   "metadata": {},
   "outputs": [
    {
     "data": {
      "text/plain": [
       "'teslim'"
      ]
     },
     "execution_count": 14,
     "metadata": {},
     "output_type": "execute_result"
    }
   ],
   "source": [
    "my_name= 'teslim'\n",
    "last_name= 'olagoke'\n",
    "my_name"
   ]
  },
  {
   "cell_type": "code",
   "execution_count": 19,
   "id": "304afd02",
   "metadata": {},
   "outputs": [
    {
     "data": {
      "text/plain": [
       "' Olagoke'"
      ]
     },
     "execution_count": 19,
     "metadata": {},
     "output_type": "execute_result"
    }
   ],
   "source": [
    "username= \"Teslim \"\n",
    "password= \" Olagoke\"\n",
    "password"
   ]
  },
  {
   "cell_type": "code",
   "execution_count": 20,
   "id": "0dea6934",
   "metadata": {},
   "outputs": [
    {
     "data": {
      "text/plain": [
       "'Teslim  Olagoke'"
      ]
     },
     "execution_count": 20,
     "metadata": {},
     "output_type": "execute_result"
    }
   ],
   "source": [
    "username+password"
   ]
  },
  {
   "cell_type": "code",
   "execution_count": 30,
   "id": "d8862a29",
   "metadata": {},
   "outputs": [
    {
     "data": {
      "text/plain": [
       "\"Over hill, over dale,\\nThorough bush, thorough brier,\\nOver park, over pale,\\nThorough flood, thorough fire!\\nI do wander everywhere,\\nSwifter than the moon's sphere;\\nAnd I serve the Fairy Queen,\\nTo dew her orbs upon the green;\\nThe cowslips tall her pensioners be;\\nIn their gold coats spots you see;\\nThose be rubies, fairy favours;\\nIn those freckles live their savours;\\nI must go seek some dewdrops here,\\nAnd hang a pearl in every cowslip's ear.\""
      ]
     },
     "execution_count": 30,
     "metadata": {},
     "output_type": "execute_result"
    }
   ],
   "source": [
    "long_string= '''Over hill, over dale,\n",
    "Thorough bush, thorough brier,\n",
    "Over park, over pale,\n",
    "Thorough flood, thorough fire!\n",
    "I do wander everywhere,\n",
    "Swifter than the moon's sphere;\n",
    "And I serve the Fairy Queen,\n",
    "To dew her orbs upon the green;\n",
    "The cowslips tall her pensioners be;\n",
    "In their gold coats spots you see;\n",
    "Those be rubies, fairy favours;\n",
    "In those freckles live their savours;\n",
    "I must go seek some dewdrops here,\n",
    "And hang a pearl in every cowslip's ear.'''\n",
    "long_string"
   ]
  },
  {
   "cell_type": "markdown",
   "id": "3497dc5f",
   "metadata": {},
   "source": [
    "#### string concatenation\n",
    "it basically means adding strings together using the '+' sign as shown below \n",
    "\n"
   ]
  },
  {
   "cell_type": "code",
   "execution_count": 158,
   "id": "50022799",
   "metadata": {},
   "outputs": [
    {
     "data": {
      "text/plain": [
       "'teslim olagoke i am 55 years old i am a python programmer'"
      ]
     },
     "execution_count": 158,
     "metadata": {},
     "output_type": "execute_result"
    }
   ],
   "source": [
    "'teslim ' + 'olagoke ' + 'i am 55 years old ' + 'i am a python programmer'"
   ]
  },
  {
   "cell_type": "markdown",
   "id": "0a2eb5ee",
   "metadata": {},
   "source": [
    "#### type conversion\n",
    "changing different data types to each other i.e changing integers to strings  "
   ]
  },
  {
   "cell_type": "code",
   "execution_count": 34,
   "id": "fe4b3a7b",
   "metadata": {},
   "outputs": [
    {
     "data": {
      "text/plain": [
       "100"
      ]
     },
     "execution_count": 34,
     "metadata": {},
     "output_type": "execute_result"
    }
   ],
   "source": [
    "int(str(100))"
   ]
  },
  {
   "cell_type": "code",
   "execution_count": 38,
   "id": "3c10e356",
   "metadata": {},
   "outputs": [
    {
     "data": {
      "text/plain": [
       "100"
      ]
     },
     "execution_count": 38,
     "metadata": {},
     "output_type": "execute_result"
    }
   ],
   "source": [
    "point_a= str(100)\n",
    "point_b= int(str(100))\n",
    "point_b"
   ]
  },
  {
   "cell_type": "markdown",
   "id": "3c4a91da",
   "metadata": {},
   "source": [
    "#### escape sequence\n",
    "* using the '\\' symbol right before the use of a quotation mark within a sentence\n",
    "* \\t- used to create a tab(a paragraph)\n",
    "* \\n- used to create a new line"
   ]
  },
  {
   "cell_type": "code",
   "execution_count": 39,
   "id": "163166fe",
   "metadata": {},
   "outputs": [
    {
     "data": {
      "text/plain": [
       "\"it's sunny outside\""
      ]
     },
     "execution_count": 39,
     "metadata": {},
     "output_type": "execute_result"
    }
   ],
   "source": [
    "weather= \"it's sunny outside\"\n",
    "weather"
   ]
  },
  {
   "cell_type": "code",
   "execution_count": 55,
   "id": "e5a5803f",
   "metadata": {},
   "outputs": [],
   "source": [
    "#weather_2=  ' It is \\\"kind of\\\" funny'\n",
    "#weather_2"
   ]
  },
  {
   "cell_type": "code",
   "execution_count": 65,
   "id": "69ca4c46",
   "metadata": {},
   "outputs": [
    {
     "data": {
      "text/plain": [
       "'It\"s \"kind of\" rainy'"
      ]
     },
     "execution_count": 65,
     "metadata": {},
     "output_type": "execute_result"
    }
   ],
   "source": [
    "weather_2= \"It\\\"s \\\"kind of\\\" rainy\"\n",
    "weather_2"
   ]
  },
  {
   "cell_type": "markdown",
   "id": "415f9643",
   "metadata": {},
   "source": [
    "#### formatted string\n",
    "* method 1 is by concatenating the strings with the variable as shown \n",
    "* method 2 is by typing the letter f in lower cas right before the quotation mark and using the curly bracket to indicate the variables that would be attached also as shown below\n"
   ]
  },
  {
   "cell_type": "code",
   "execution_count": 100,
   "id": "5eb19b75",
   "metadata": {},
   "outputs": [
    {
     "data": {
      "text/plain": [
       "\"hi Tes. you are 55 years oldyou weigh 77 kg you are 7'5tall\""
      ]
     },
     "execution_count": 100,
     "metadata": {},
     "output_type": "execute_result"
    }
   ],
   "source": [
    "name='Tes'\n",
    "age=55\n",
    "weight=77\n",
    "height=\"7'5\"\n",
    "\n",
    "welcome_note='hi '+ name + '. you are ' + str(age) +' years old'+'you weigh ' + str(weight) + ' kg' + ' you are ' + height + 'tall'\n",
    "welcome_note"
   ]
  },
  {
   "cell_type": "code",
   "execution_count": 104,
   "id": "a32650fa",
   "metadata": {},
   "outputs": [
    {
     "data": {
      "text/plain": [
       "\"hi Tes. You are 55 years old and you weigh 77kg and you are 7'5 tall\""
      ]
     },
     "execution_count": 104,
     "metadata": {},
     "output_type": "execute_result"
    }
   ],
   "source": [
    "welcome_note= f'hi {name}. You are {age} years old and you weigh {weight}kg and you are {height} tall'\n",
    "welcome_note"
   ]
  },
  {
   "cell_type": "markdown",
   "id": "bf2a23f0",
   "metadata": {},
   "source": [
    "#### string index and slicing\n",
    "* use the square bracket '[   ]'  to denote an index\n",
    "* when trying to get a range of numbers the number after the full column indicates that it should stop before it gets to that index and not on that particular index\n",
    "* [a:b] where a is the index of the number you want to start from and b would be the number which you want to stop the count i.e if you want to stop at the 6th index then b would be 7\n",
    "* [a:b:c] while c is the stepover. the amount of steps you want to skip"
   ]
  },
  {
   "cell_type": "code",
   "execution_count": 159,
   "id": "037dc58d",
   "metadata": {},
   "outputs": [
    {
     "data": {
      "text/plain": [
       "'123456789'"
      ]
     },
     "execution_count": 159,
     "metadata": {},
     "output_type": "execute_result"
    }
   ],
   "source": [
    "numbers= '123456789'\n",
    "numbers"
   ]
  },
  {
   "cell_type": "code",
   "execution_count": 160,
   "id": "c0d90c41",
   "metadata": {},
   "outputs": [
    {
     "data": {
      "text/plain": [
       "'1'"
      ]
     },
     "execution_count": 160,
     "metadata": {},
     "output_type": "execute_result"
    }
   ],
   "source": [
    "numbers[0]"
   ]
  },
  {
   "cell_type": "code",
   "execution_count": 161,
   "id": "43444a91",
   "metadata": {},
   "outputs": [
    {
     "data": {
      "text/plain": [
       "'6'"
      ]
     },
     "execution_count": 161,
     "metadata": {},
     "output_type": "execute_result"
    }
   ],
   "source": [
    "numbers[5]"
   ]
  },
  {
   "cell_type": "code",
   "execution_count": 162,
   "id": "7f4ddf5b",
   "metadata": {},
   "outputs": [
    {
     "data": {
      "text/plain": [
       "'4'"
      ]
     },
     "execution_count": 162,
     "metadata": {},
     "output_type": "execute_result"
    }
   ],
   "source": [
    "numbers[3]"
   ]
  },
  {
   "cell_type": "code",
   "execution_count": 163,
   "id": "2615fe28",
   "metadata": {},
   "outputs": [
    {
     "data": {
      "text/plain": [
       "'1234567'"
      ]
     },
     "execution_count": 163,
     "metadata": {},
     "output_type": "execute_result"
    }
   ],
   "source": [
    "numbers[0:7]"
   ]
  },
  {
   "cell_type": "code",
   "execution_count": 164,
   "id": "4dba6f98",
   "metadata": {},
   "outputs": [
    {
     "data": {
      "text/plain": [
       "'1234567'"
      ]
     },
     "execution_count": 164,
     "metadata": {},
     "output_type": "execute_result"
    }
   ],
   "source": [
    "numbers[0:7]"
   ]
  },
  {
   "cell_type": "code",
   "execution_count": 165,
   "id": "d8a7a255",
   "metadata": {},
   "outputs": [
    {
     "data": {
      "text/plain": [
       "'123456789'"
      ]
     },
     "execution_count": 165,
     "metadata": {},
     "output_type": "execute_result"
    }
   ],
   "source": [
    "numbers[0:]"
   ]
  },
  {
   "cell_type": "code",
   "execution_count": 166,
   "id": "84f04876",
   "metadata": {},
   "outputs": [
    {
     "data": {
      "text/plain": [
       "'13579'"
      ]
     },
     "execution_count": 166,
     "metadata": {},
     "output_type": "execute_result"
    }
   ],
   "source": [
    "numbers[0::2]"
   ]
  },
  {
   "cell_type": "code",
   "execution_count": 167,
   "id": "9b90ddbe",
   "metadata": {},
   "outputs": [
    {
     "data": {
      "text/plain": [
       "'147'"
      ]
     },
     "execution_count": 167,
     "metadata": {},
     "output_type": "execute_result"
    }
   ],
   "source": [
    "numbers[0::3]"
   ]
  },
  {
   "cell_type": "code",
   "execution_count": 168,
   "id": "4047e49f",
   "metadata": {},
   "outputs": [
    {
     "data": {
      "text/plain": [
       "'8'"
      ]
     },
     "execution_count": 168,
     "metadata": {},
     "output_type": "execute_result"
    }
   ],
   "source": [
    "numbers[-2]"
   ]
  },
  {
   "cell_type": "code",
   "execution_count": 169,
   "id": "e6cbd964",
   "metadata": {},
   "outputs": [
    {
     "data": {
      "text/plain": [
       "'123456789'"
      ]
     },
     "execution_count": 169,
     "metadata": {},
     "output_type": "execute_result"
    }
   ],
   "source": [
    "numbers[::]"
   ]
  },
  {
   "cell_type": "markdown",
   "id": "e94de62b",
   "metadata": {},
   "source": [
    "### IMMUTABILITY\n",
    "* strings are immutable i.e they can not be changed \n",
    "* as shown below, an attempt to change the 3rd index of the selfish variable from 4 to 9 was met with an error message as it's not possible \n",
    "* there are ways to edit a string as also shown below"
   ]
  },
  {
   "cell_type": "code",
   "execution_count": 174,
   "id": "82397934",
   "metadata": {},
   "outputs": [
    {
     "data": {
      "text/plain": [
       "'123456789'"
      ]
     },
     "execution_count": 174,
     "metadata": {},
     "output_type": "execute_result"
    }
   ],
   "source": [
    "selfish= '123456789'\n",
    "selfish"
   ]
  },
  {
   "cell_type": "code",
   "execution_count": 176,
   "id": "08028e01",
   "metadata": {},
   "outputs": [
    {
     "ename": "TypeError",
     "evalue": "'str' object does not support item assignment",
     "output_type": "error",
     "traceback": [
      "\u001b[0;31m---------------------------------------------------------------------------\u001b[0m",
      "\u001b[0;31mTypeError\u001b[0m                                 Traceback (most recent call last)",
      "Input \u001b[0;32mIn [176]\u001b[0m, in \u001b[0;36m<cell line: 1>\u001b[0;34m()\u001b[0m\n\u001b[0;32m----> 1\u001b[0m selfish[\u001b[38;5;241m3\u001b[39m]\u001b[38;5;241m=\u001b[39m\u001b[38;5;124m'\u001b[39m\u001b[38;5;124m9\u001b[39m\u001b[38;5;124m'\u001b[39m\n",
      "\u001b[0;31mTypeError\u001b[0m: 'str' object does not support item assignment"
     ]
    }
   ],
   "source": [
    "selfish[3]='9'"
   ]
  },
  {
   "cell_type": "code",
   "execution_count": 179,
   "id": "5f603484",
   "metadata": {},
   "outputs": [
    {
     "data": {
      "text/plain": [
       "'12345678900'"
      ]
     },
     "execution_count": 179,
     "metadata": {},
     "output_type": "execute_result"
    }
   ],
   "source": [
    "selfish=selfish+'0'\n",
    "selfish"
   ]
  },
  {
   "cell_type": "markdown",
   "id": "39f49dbc",
   "metadata": {},
   "source": [
    "# THINGS TO DO PRIOR TO NEXT CLASS\n",
    "* READ UP AND RESEARCH ON LIST, LIST SLICING, LIST METHODS, DICTIONARY, DICTONARY KEYS AND DICTIONARY METHODS \n",
    "* USING THIS NOTE AS REFERENCE, WRITE ON THEM AND GIVE EXAMPLES AND INSTANCES\n",
    "* USE PYTHON DOCUMENTATION, STACK OVERFLOW TO GET YOUR INFORMATION ( USE GOOGLE!!!!!!!)"
   ]
  },
  {
   "cell_type": "code",
   "execution_count": null,
   "id": "e0359369",
   "metadata": {},
   "outputs": [],
   "source": []
  }
 ],
 "metadata": {
  "kernelspec": {
   "display_name": "Python 3 (ipykernel)",
   "language": "python",
   "name": "python3"
  },
  "language_info": {
   "codemirror_mode": {
    "name": "ipython",
    "version": 3
   },
   "file_extension": ".py",
   "mimetype": "text/x-python",
   "name": "python",
   "nbconvert_exporter": "python",
   "pygments_lexer": "ipython3",
   "version": "3.9.12"
  }
 },
 "nbformat": 4,
 "nbformat_minor": 5
}
